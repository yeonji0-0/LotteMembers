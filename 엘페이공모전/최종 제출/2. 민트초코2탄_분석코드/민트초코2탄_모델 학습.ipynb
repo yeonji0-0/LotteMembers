{
 "cells": [
  {
   "cell_type": "markdown",
   "id": "c4308e23",
   "metadata": {},
   "source": [
    "# 추천 시스템 구현"
   ]
  },
  {
   "cell_type": "markdown",
   "id": "b99f9eee",
   "metadata": {},
   "source": [
    "Comment: 모델 pickle 파일을 불러올 경우 (4. 모델 학습) 과정 생략"
   ]
  },
  {
   "cell_type": "code",
   "execution_count": null,
   "id": "c9e0dad0",
   "metadata": {},
   "outputs": [],
   "source": [
    "import os\n",
    "import numpy as np\n",
    "import pandas as pd\n",
    "import seaborn as sns\n",
    "import warnings\n",
    "import datetime\n",
    "import itertools\n",
    "import copy\n",
    "warnings.filterwarnings(action='ignore')\n",
    "import matplotlib.pyplot as plt\n",
    "%matplotlib inline\n",
    "import random\n",
    "import implicit\n",
    "import scipy.sparse as sp\n",
    "from scipy.sparse import vstack\n",
    "from scipy import sparse\n",
    "from scipy.sparse.linalg import spsolve\n",
    "from subprocess import check_output\n",
    "from sklearn.model_selection import train_test_split\n",
    "from scipy.sparse import coo_matrix\n",
    "from implicit.evaluation import mean_average_precision_at_k"
   ]
  },
  {
   "cell_type": "code",
   "execution_count": 363,
   "id": "d6213391",
   "metadata": {},
   "outputs": [
    {
     "name": "stdout",
     "output_type": "stream",
     "text": [
      "['.ipynb_checkpoints', 'LPOINT_BIG_COMP_01_DEMO.csv', 'LPOINT_BIG_COMP_02_PDDE.csv', 'LPOINT_BIG_COMP_03_COP_U.csv', 'LPOINT_BIG_COMP_04_PD_CLAC.csv', 'LPOINT_BIG_COMP_05_BR.csv', 'LPOINT_BIG_COMP_06_LPAY.csv', 'married_woman.csv', '직장인.csv']\n"
     ]
    }
   ],
   "source": [
    "#파일 경로 설정\n",
    "#data_path = '/Users/ajc02/롯데멤버스/LPOINT_BIG_COMP/'\n",
    "#file_list = os.listdir(data_path)\n",
    "#df = []\n",
    "#for file in file_list[1:]:\n",
    "#    file_path = os.path.join(data_path, file)\n",
    "#    data = pd.read_csv(file_path)\n",
    "#    df.append(data)\n",
    "#print(file_list)"
   ]
  },
  {
   "cell_type": "code",
   "execution_count": 364,
   "id": "12e05829",
   "metadata": {
    "scrolled": true
   },
   "outputs": [],
   "source": [
    "demo_df = df[0]\n",
    "pdde_df = df[1]\n",
    "cop_df  = df[2]\n",
    "pd_df   = df[3]\n",
    "br_df   = df[4]\n",
    "lpay_df = df[5]\n",
    "married_df = df[6]\n",
    "worker_df = df[7]"
   ]
  },
  {
   "cell_type": "code",
   "execution_count": 365,
   "id": "d4076db0",
   "metadata": {},
   "outputs": [],
   "source": [
    "# datetime 형식으로 변환\n",
    "pdde_df['de_dt'] = pd.to_datetime(pdde_df['de_dt'], format=\"%Y%m%d\")\n",
    "cop_df['de_dt'] = pd.to_datetime(cop_df['de_dt'], format=\"%Y%m%d\")\n",
    "lpay_df['de_dt'] = pd.to_datetime(lpay_df['de_dt'], format=\"%Y%m%d\")"
   ]
  },
  {
   "cell_type": "markdown",
   "id": "839c8802",
   "metadata": {},
   "source": [
    "# 모델 학습을 위한 Feature Engineering "
   ]
  },
  {
   "cell_type": "code",
   "execution_count": 367,
   "id": "255005f6",
   "metadata": {},
   "outputs": [],
   "source": [
    "# 고객별 구매 품목 데이터로 변환 및 User, Item의 index를 추가하는 과정\n",
    "def coo_preprocessing(data):\n",
    "    data = data.loc[:, ['cust', 'pd_c', 'pd_nm', 'buy_ct']].groupby(['cust','pd_c','pd_nm']).sum().reset_index()\n",
    "    data = data[['cust','pd_c']]\n",
    "    \n",
    "    ALL_USERS = data.cust.unique().tolist()\n",
    "    ALL_ITEMS = data.pd_c.unique().tolist()\n",
    "\n",
    "    user_ids = dict(list(enumerate(ALL_USERS)))\n",
    "    item_ids = dict(list(enumerate(ALL_ITEMS)))\n",
    "\n",
    "    user_map = {u: uidx for uidx, u in user_ids.items()}\n",
    "    item_map = {i: iidx for iidx, i in item_ids.items()}\n",
    "\n",
    "    data['user_id'] = data['cust'].map(user_map)\n",
    "    data['item_id'] = data['pd_c'].map(item_map)\n",
    "    return {'data':data, 'user_ids' : user_ids, 'item_ids' : item_ids}\n",
    "\n",
    "# coo_matrix 형식으로 변환 \n",
    "def make_coo_matrix(data):\n",
    "    ALL_USERS = data.cust.unique().tolist()\n",
    "    ALL_ITEMS = data.pd_c.unique().tolist()\n",
    "    row = data['user_id'].values\n",
    "    col = data['item_id'].values\n",
    "    dt = np.ones(data.shape[0])\n",
    "    coo_train = coo_matrix((dt, (row, col)), shape=(len(ALL_USERS), len(ALL_ITEMS)))\n",
    "    return coo_train"
   ]
  },
  {
   "cell_type": "code",
   "execution_count": 368,
   "id": "239d76f2",
   "metadata": {},
   "outputs": [],
   "source": [
    "pre_married_df = coo_preprocessing(married_df)\n",
    "pre_worker_df = coo_preprocessing(worker_df)\n",
    "\n",
    "coo_married_df = make_coo_matrix(pre_married_df['data'])\n",
    "coo_worker_df = make_coo_matrix(pre_worker_df['data'])"
   ]
  },
  {
   "cell_type": "code",
   "execution_count": 405,
   "id": "2c9afca2",
   "metadata": {},
   "outputs": [],
   "source": [
    "# input data의 factor 저장\n",
    "import pickle\n",
    "with open('pre_married_df.pickle','wb') as fw:\n",
    "    pickle.dump(pre_married_df, fw)\n",
    "    \n",
    "with open('pre_worker_df.pickle','wb') as fw:\n",
    "    pickle.dump(pre_worker_df, fw)\n",
    "    \n",
    "with open('married_csr_train.pickle','wb') as fw:\n",
    "    pickle.dump(married_csr_train, fw)\n",
    "    \n",
    "with open('worker_csr_train.pickle','wb') as fw:\n",
    "    pickle.dump(worker_csr_train, fw)"
   ]
  },
  {
   "cell_type": "code",
   "execution_count": 369,
   "id": "9987ab40",
   "metadata": {},
   "outputs": [],
   "source": [
    "# 학습 데이터 세트와 검증 데이터 세트로 분리\n",
    "married_coo_train, married_coo_val = train_test_split(coo_married_df, test_size=0.3, shuffle=True, random_state=121)\n",
    "worker_coo_train, worker_coo_val = train_test_split(coo_worker_df, test_size=0.3, shuffle=True, random_state=121)"
   ]
  },
  {
   "cell_type": "code",
   "execution_count": 370,
   "id": "9dd39295",
   "metadata": {
    "scrolled": true
   },
   "outputs": [],
   "source": [
    "# coo -> csr 형태의 변수로 저장\n",
    "married_csr_train = married_coo_train.tocsr()\n",
    "married_csr_val = married_coo_val.tocsr()\n",
    "\n",
    "worker_csr_train = worker_coo_train.tocsr()\n",
    "worker_csr_val = worker_coo_val.tocsr()"
   ]
  },
  {
   "cell_type": "markdown",
   "id": "f065387f",
   "metadata": {},
   "source": [
    "# 모델 학습"
   ]
  },
  {
   "cell_type": "code",
   "execution_count": 371,
   "id": "c2dcc8b1",
   "metadata": {},
   "outputs": [],
   "source": [
    "# MAP@12로 성능 검증을 위한 함수\n",
    "def validate(matrices, factors=200, iterations=20, regularization=0.01, show_progress=True):\n",
    "    coo_train, csr_train, csr_val = matrices['coo_train'], matrices['csr_train'], matrices['csr_val']\n",
    "    model = implicit.als.AlternatingLeastSquares(factors=factors, \n",
    "                                                 iterations=iterations, \n",
    "                                                 regularization=regularization, \n",
    "                                                 random_state=42)\n",
    "    model.fit(coo_train, show_progress=show_progress)\n",
    "    \n",
    "    map12 = mean_average_precision_at_k(model, csr_train, csr_val, K=12, show_progress=show_progress, num_threads=4)\n",
    "    print(f\"Factors: {factors:>3} - Iterations: {iterations:>2} - Regularization: {regularization:4.3f} ==> MAP@12: {map12:6.5f}\")\n",
    "    return map12\n",
    "\n",
    "# 최적화된 파라미터 search하는 함수\n",
    "def best_parameters(matrices):\n",
    "    best_map12 = 0\n",
    "    for factors in [40, 50, 60, 100, 200, 500, 1000]:\n",
    "        for iterations in [3, 12, 14, 15, 20]:\n",
    "            for regularization in [0.01]:\n",
    "                map12 = validate(matrices, factors, iterations, regularization, show_progress=False)\n",
    "                if map12 > best_map12:\n",
    "                    best_map12 = map12\n",
    "                    best_params = {'factors': factors, 'iterations': iterations, 'regularization': regularization}\n",
    "                    print (f\"Best MAP@12 found. Updating: {best_params}\")\n",
    "    return best_params"
   ]
  },
  {
   "cell_type": "code",
   "execution_count": 372,
   "id": "1c110999",
   "metadata": {},
   "outputs": [],
   "source": [
    "# 각 세그먼트별 validate 함수를 위한 factor들 저장\n",
    "married_matrices = {'coo_train' : married_coo_train, 'csr_train' : married_csr_train, 'csr_val' : married_csr_val}\n",
    "worker_matrices = {'coo_train' : worker_coo_train, 'csr_train' : worker_csr_train, 'csr_val' : worker_csr_val}"
   ]
  },
  {
   "cell_type": "code",
   "execution_count": 373,
   "id": "51db9794",
   "metadata": {
    "scrolled": true
   },
   "outputs": [
    {
     "name": "stdout",
     "output_type": "stream",
     "text": [
      "Factors:  40 - Iterations:  3 - Regularization: 0.010 ==> MAP@12: 0.04529\n",
      "Best MAP@12 found. Updating: {'factors': 40, 'iterations': 3, 'regularization': 0.01}\n",
      "Factors:  40 - Iterations: 12 - Regularization: 0.010 ==> MAP@12: 0.03571\n",
      "Factors:  40 - Iterations: 14 - Regularization: 0.010 ==> MAP@12: 0.03564\n",
      "Factors:  40 - Iterations: 15 - Regularization: 0.010 ==> MAP@12: 0.03577\n",
      "Factors:  40 - Iterations: 20 - Regularization: 0.010 ==> MAP@12: 0.03495\n",
      "Factors:  50 - Iterations:  3 - Regularization: 0.010 ==> MAP@12: 0.03468\n",
      "Factors:  50 - Iterations: 12 - Regularization: 0.010 ==> MAP@12: 0.03033\n",
      "Factors:  50 - Iterations: 14 - Regularization: 0.010 ==> MAP@12: 0.03041\n",
      "Factors:  50 - Iterations: 15 - Regularization: 0.010 ==> MAP@12: 0.03066\n",
      "Factors:  50 - Iterations: 20 - Regularization: 0.010 ==> MAP@12: 0.03048\n",
      "Factors:  60 - Iterations:  3 - Regularization: 0.010 ==> MAP@12: 0.03083\n",
      "Factors:  60 - Iterations: 12 - Regularization: 0.010 ==> MAP@12: 0.02526\n",
      "Factors:  60 - Iterations: 14 - Regularization: 0.010 ==> MAP@12: 0.02571\n",
      "Factors:  60 - Iterations: 15 - Regularization: 0.010 ==> MAP@12: 0.02588\n",
      "Factors:  60 - Iterations: 20 - Regularization: 0.010 ==> MAP@12: 0.02505\n",
      "Factors: 100 - Iterations:  3 - Regularization: 0.010 ==> MAP@12: 0.02017\n",
      "Factors: 100 - Iterations: 12 - Regularization: 0.010 ==> MAP@12: 0.01701\n",
      "Factors: 100 - Iterations: 14 - Regularization: 0.010 ==> MAP@12: 0.01716\n",
      "Factors: 100 - Iterations: 15 - Regularization: 0.010 ==> MAP@12: 0.01715\n",
      "Factors: 100 - Iterations: 20 - Regularization: 0.010 ==> MAP@12: 0.01667\n",
      "Factors: 200 - Iterations:  3 - Regularization: 0.010 ==> MAP@12: 0.01057\n",
      "Factors: 200 - Iterations: 12 - Regularization: 0.010 ==> MAP@12: 0.00762\n",
      "Factors: 200 - Iterations: 14 - Regularization: 0.010 ==> MAP@12: 0.00803\n",
      "Factors: 200 - Iterations: 15 - Regularization: 0.010 ==> MAP@12: 0.00794\n",
      "Factors: 200 - Iterations: 20 - Regularization: 0.010 ==> MAP@12: 0.00844\n",
      "Factors: 500 - Iterations:  3 - Regularization: 0.010 ==> MAP@12: 0.00352\n",
      "Factors: 500 - Iterations: 12 - Regularization: 0.010 ==> MAP@12: 0.00148\n",
      "Factors: 500 - Iterations: 14 - Regularization: 0.010 ==> MAP@12: 0.00141\n",
      "Factors: 500 - Iterations: 15 - Regularization: 0.010 ==> MAP@12: 0.00140\n",
      "Factors: 500 - Iterations: 20 - Regularization: 0.010 ==> MAP@12: 0.00136\n",
      "Factors: 1000 - Iterations:  3 - Regularization: 0.010 ==> MAP@12: 0.00202\n",
      "Factors: 1000 - Iterations: 12 - Regularization: 0.010 ==> MAP@12: 0.00095\n",
      "Factors: 1000 - Iterations: 14 - Regularization: 0.010 ==> MAP@12: 0.00086\n",
      "Factors: 1000 - Iterations: 15 - Regularization: 0.010 ==> MAP@12: 0.00080\n",
      "Factors: 1000 - Iterations: 20 - Regularization: 0.010 ==> MAP@12: 0.00075\n",
      "--------------------------------------------------\n",
      "Factors:  40 - Iterations:  3 - Regularization: 0.010 ==> MAP@12: 0.05476\n",
      "Best MAP@12 found. Updating: {'factors': 40, 'iterations': 3, 'regularization': 0.01}\n",
      "Factors:  40 - Iterations: 12 - Regularization: 0.010 ==> MAP@12: 0.04007\n",
      "Factors:  40 - Iterations: 14 - Regularization: 0.010 ==> MAP@12: 0.03984\n",
      "Factors:  40 - Iterations: 15 - Regularization: 0.010 ==> MAP@12: 0.04036\n",
      "Factors:  40 - Iterations: 20 - Regularization: 0.010 ==> MAP@12: 0.03938\n",
      "Factors:  50 - Iterations:  3 - Regularization: 0.010 ==> MAP@12: 0.05290\n",
      "Factors:  50 - Iterations: 12 - Regularization: 0.010 ==> MAP@12: 0.03501\n",
      "Factors:  50 - Iterations: 14 - Regularization: 0.010 ==> MAP@12: 0.03479\n",
      "Factors:  50 - Iterations: 15 - Regularization: 0.010 ==> MAP@12: 0.03458\n",
      "Factors:  50 - Iterations: 20 - Regularization: 0.010 ==> MAP@12: 0.03401\n",
      "Factors:  60 - Iterations:  3 - Regularization: 0.010 ==> MAP@12: 0.03832\n",
      "Factors:  60 - Iterations: 12 - Regularization: 0.010 ==> MAP@12: 0.02714\n",
      "Factors:  60 - Iterations: 14 - Regularization: 0.010 ==> MAP@12: 0.02729\n",
      "Factors:  60 - Iterations: 15 - Regularization: 0.010 ==> MAP@12: 0.02747\n",
      "Factors:  60 - Iterations: 20 - Regularization: 0.010 ==> MAP@12: 0.02664\n",
      "Factors: 100 - Iterations:  3 - Regularization: 0.010 ==> MAP@12: 0.02066\n",
      "Factors: 100 - Iterations: 12 - Regularization: 0.010 ==> MAP@12: 0.01814\n",
      "Factors: 100 - Iterations: 14 - Regularization: 0.010 ==> MAP@12: 0.01798\n",
      "Factors: 100 - Iterations: 15 - Regularization: 0.010 ==> MAP@12: 0.01806\n",
      "Factors: 100 - Iterations: 20 - Regularization: 0.010 ==> MAP@12: 0.01787\n",
      "Factors: 200 - Iterations:  3 - Regularization: 0.010 ==> MAP@12: 0.00976\n",
      "Factors: 200 - Iterations: 12 - Regularization: 0.010 ==> MAP@12: 0.00723\n",
      "Factors: 200 - Iterations: 14 - Regularization: 0.010 ==> MAP@12: 0.00688\n",
      "Factors: 200 - Iterations: 15 - Regularization: 0.010 ==> MAP@12: 0.00681\n",
      "Factors: 200 - Iterations: 20 - Regularization: 0.010 ==> MAP@12: 0.00660\n",
      "Factors: 500 - Iterations:  3 - Regularization: 0.010 ==> MAP@12: 0.00304\n",
      "Factors: 500 - Iterations: 12 - Regularization: 0.010 ==> MAP@12: 0.00140\n",
      "Factors: 500 - Iterations: 14 - Regularization: 0.010 ==> MAP@12: 0.00099\n",
      "Factors: 500 - Iterations: 15 - Regularization: 0.010 ==> MAP@12: 0.00110\n",
      "Factors: 500 - Iterations: 20 - Regularization: 0.010 ==> MAP@12: 0.00093\n",
      "Factors: 1000 - Iterations:  3 - Regularization: 0.010 ==> MAP@12: 0.00243\n",
      "Factors: 1000 - Iterations: 12 - Regularization: 0.010 ==> MAP@12: 0.00111\n",
      "Factors: 1000 - Iterations: 14 - Regularization: 0.010 ==> MAP@12: 0.00122\n",
      "Factors: 1000 - Iterations: 15 - Regularization: 0.010 ==> MAP@12: 0.00098\n",
      "Factors: 1000 - Iterations: 20 - Regularization: 0.010 ==> MAP@12: 0.00131\n",
      "--------------------------------------------------\n"
     ]
    }
   ],
   "source": [
    "# 각 세그먼트별 best_params 추출 및 저장\n",
    "married_best_params = best_parameters(matrices = married_matrices)\n",
    "print('-'*50)\n",
    "worker_best_params = best_parameters(matrices = worker_matrices)\n",
    "print('-'*50)"
   ]
  },
  {
   "cell_type": "code",
   "execution_count": 374,
   "id": "b90eea15",
   "metadata": {},
   "outputs": [],
   "source": [
    "# Alternating Least Squares(ALS) 학습\n",
    "def train(coo_train, factors=200, iterations=15, regularization=0.01, show_progress=True):\n",
    "    model = implicit.als.AlternatingLeastSquares(factors=factors, \n",
    "                                                 iterations=iterations, \n",
    "                                                 regularization=regularization, \n",
    "                                                 random_state=42)\n",
    "    model.fit(coo_train, show_progress=show_progress)\n",
    "    return model"
   ]
  },
  {
   "cell_type": "code",
   "execution_count": 375,
   "id": "2a1ef2f4",
   "metadata": {
    "scrolled": true
   },
   "outputs": [
    {
     "data": {
      "application/vnd.jupyter.widget-view+json": {
       "model_id": "5fbbfd08a0e2417e900b81c23a88bc5a",
       "version_major": 2,
       "version_minor": 0
      },
      "text/plain": [
       "  0%|          | 0/3 [00:00<?, ?it/s]"
      ]
     },
     "metadata": {},
     "output_type": "display_data"
    },
    {
     "data": {
      "application/vnd.jupyter.widget-view+json": {
       "model_id": "d54e928faaf84f4881cf7efd5fe56556",
       "version_major": 2,
       "version_minor": 0
      },
      "text/plain": [
       "  0%|          | 0/3 [00:00<?, ?it/s]"
      ]
     },
     "metadata": {},
     "output_type": "display_data"
    }
   ],
   "source": [
    "married_model = train(married_coo_train, **married_best_params)\n",
    "worker_model = train(worker_coo_train, **worker_best_params)"
   ]
  },
  {
   "cell_type": "code",
   "execution_count": 376,
   "id": "54e1b2a5",
   "metadata": {},
   "outputs": [
    {
     "data": {
      "text/plain": [
       "{0: 'married_model', 1: 'worker_model'}"
      ]
     },
     "execution_count": 376,
     "metadata": {},
     "output_type": "execute_result"
    }
   ],
   "source": [
    "model_name = {0: 'married_model', 1: 'worker_model'}\n",
    "model_name"
   ]
  },
  {
   "cell_type": "code",
   "execution_count": 385,
   "id": "60097f32",
   "metadata": {},
   "outputs": [],
   "source": [
    "# # 모델 저장\n",
    "# import pickle\n",
    "# for i in range(len(model_name)):\n",
    "#     with open(str(model_name[i]) + '.pickle','wb') as fw:\n",
    "#         pickle.dump(model_name[i], fw)"
   ]
  },
  {
   "cell_type": "markdown",
   "id": "a66e7230",
   "metadata": {},
   "source": [
    "# 학습된 모델을 통한 예측 "
   ]
  },
  {
   "cell_type": "code",
   "execution_count": 339,
   "id": "bdf83bb5",
   "metadata": {},
   "outputs": [],
   "source": [
    "# 모델 불러오기\n",
    "model_name = {0: 'married_model', 1: 'worker_model'}\n",
    "\n",
    "import pickle \n",
    "for i in range(len(model_name)):\n",
    "    with open(str(model_name[i]) +'.pickle','rb') as fw:\n",
    "        model_name[i] = pickle.load(fw)\n",
    "        \n",
    "# input data의 factor 불러오기\n",
    "with open('pre_married_df.pickle','rb') as fw:\n",
    "    pre_married_df = pickle.load(fw)\n",
    "    \n",
    "with open('pre_worker_df.pickle','rb') as fw:\n",
    "    pre_worker_df = pickle.load(fw)\n",
    "    \n",
    "with open('married_csr_train.pickle','rb') as fw:\n",
    "    married_csr_train = pickle.load(fw)\n",
    "    \n",
    "with open('worker_csr_train.pickle','rb') as fw:\n",
    "    worker_csr_train = pickle.load(fw)\n"
   ]
  },
  {
   "cell_type": "code",
   "execution_count": 379,
   "id": "51e29d20",
   "metadata": {},
   "outputs": [],
   "source": [
    "# 학습된 모델을 통해 각 고객별로 구매할 것으로 예측되는 제품 목록(12개)을 출력하는 함수\n",
    "def prediction(model, csr_train, user_ids, item_ids):\n",
    "    preds = []\n",
    "    batch_size = 2000\n",
    "    to_generate = np.arange(csr_train.shape[0])\n",
    "    for startidx in range(0, len(to_generate), batch_size):\n",
    "        batch = to_generate[startidx : startidx + batch_size]\n",
    "        ids, scores = model.recommend(batch, csr_train[batch], N=12, filter_already_liked_items=False)\n",
    "        for i, userid in enumerate(batch):\n",
    "            customer_id = user_ids[userid]\n",
    "            user_items = ids[i]\n",
    "            article_ids = [item_ids[item_id] for item_id in user_items]\n",
    "            preds.append((customer_id, ' '.join(article_ids)))\n",
    "\n",
    "    df_preds = pd.DataFrame(preds, columns=['customer_id', 'pd_c'])\n",
    "    \n",
    "    return df_preds"
   ]
  },
  {
   "cell_type": "code",
   "execution_count": 380,
   "id": "cf7e78e6",
   "metadata": {
    "scrolled": true
   },
   "outputs": [],
   "source": [
    "married_preds = prediction(married_model, married_csr_train, pre_married_df['user_ids'], pre_married_df['item_ids'])\n",
    "worker_preds = prediction(worker_model, worker_csr_train, pre_worker_df['user_ids'], pre_worker_df['item_ids'])"
   ]
  },
  {
   "cell_type": "code",
   "execution_count": 381,
   "id": "9d0d62b2",
   "metadata": {},
   "outputs": [],
   "source": [
    "# 각 세그먼트별로 가장 많이 추천된 순서로 정렬하여 제품 출력\n",
    "def recommend_list(data, k):\n",
    "    recommend = []\n",
    "    for i in range(len(data)):\n",
    "        for j in range(k): # cf) MAP@12, k= 12 \n",
    "            recommend.append(data['pd_c'][i].split()[j])\n",
    "    recommend_list = pd.DataFrame(recommend, columns = ['pd_c'])\n",
    "    recommend_list['value'] = 1\n",
    "    return recommend_list.groupby(['pd_c']).sum().sort_values(['value'],ascending=False).reset_index()"
   ]
  },
  {
   "cell_type": "code",
   "execution_count": 382,
   "id": "690dbaa2",
   "metadata": {},
   "outputs": [],
   "source": [
    "married_recommend_list = pd.merge(recommend_list(married_preds, k = 12), pd_df, how = 'inner', on ='pd_c')\n",
    "worker_recommend_list = pd.merge(recommend_list(worker_preds, k = 12), pd_df, how = 'inner', on ='pd_c')"
   ]
  },
  {
   "cell_type": "code",
   "execution_count": 388,
   "id": "6f0f5c72",
   "metadata": {
    "scrolled": true
   },
   "outputs": [
    {
     "data": {
      "text/html": [
       "<div>\n",
       "<style scoped>\n",
       "    .dataframe tbody tr th:only-of-type {\n",
       "        vertical-align: middle;\n",
       "    }\n",
       "\n",
       "    .dataframe tbody tr th {\n",
       "        vertical-align: top;\n",
       "    }\n",
       "\n",
       "    .dataframe thead th {\n",
       "        text-align: right;\n",
       "    }\n",
       "</style>\n",
       "<table border=\"1\" class=\"dataframe\">\n",
       "  <thead>\n",
       "    <tr style=\"text-align: right;\">\n",
       "      <th></th>\n",
       "      <th>pd_c</th>\n",
       "      <th>pd_nm</th>\n",
       "    </tr>\n",
       "  </thead>\n",
       "  <tbody>\n",
       "    <tr>\n",
       "      <th>0</th>\n",
       "      <td>PD0949</td>\n",
       "      <td>여성티셔츠/탑</td>\n",
       "    </tr>\n",
       "    <tr>\n",
       "      <th>1</th>\n",
       "      <td>PD0232</td>\n",
       "      <td>일반스낵</td>\n",
       "    </tr>\n",
       "    <tr>\n",
       "      <th>2</th>\n",
       "      <td>PD1255</td>\n",
       "      <td>베이커리일반빵</td>\n",
       "    </tr>\n",
       "    <tr>\n",
       "      <th>3</th>\n",
       "      <td>PD0363</td>\n",
       "      <td>빵/케이크</td>\n",
       "    </tr>\n",
       "    <tr>\n",
       "      <th>4</th>\n",
       "      <td>PD0965</td>\n",
       "      <td>여성원피스</td>\n",
       "    </tr>\n",
       "    <tr>\n",
       "      <th>5</th>\n",
       "      <td>PD0964</td>\n",
       "      <td>기타여성의류아우터</td>\n",
       "    </tr>\n",
       "    <tr>\n",
       "      <th>6</th>\n",
       "      <td>PD0218</td>\n",
       "      <td>쿠키</td>\n",
       "    </tr>\n",
       "    <tr>\n",
       "      <th>7</th>\n",
       "      <td>PD0816</td>\n",
       "      <td>여성런닝/트레이닝화</td>\n",
       "    </tr>\n",
       "    <tr>\n",
       "      <th>8</th>\n",
       "      <td>PD0409</td>\n",
       "      <td>일반빵</td>\n",
       "    </tr>\n",
       "    <tr>\n",
       "      <th>9</th>\n",
       "      <td>PD1181</td>\n",
       "      <td>커피음료</td>\n",
       "    </tr>\n",
       "    <tr>\n",
       "      <th>10</th>\n",
       "      <td>PD0967</td>\n",
       "      <td>여성바지</td>\n",
       "    </tr>\n",
       "    <tr>\n",
       "      <th>11</th>\n",
       "      <td>PD0402</td>\n",
       "      <td>기타레토르트</td>\n",
       "    </tr>\n",
       "    <tr>\n",
       "      <th>12</th>\n",
       "      <td>PD0288</td>\n",
       "      <td>임대매출</td>\n",
       "    </tr>\n",
       "    <tr>\n",
       "      <th>13</th>\n",
       "      <td>PD1827</td>\n",
       "      <td>기타패션잡화</td>\n",
       "    </tr>\n",
       "    <tr>\n",
       "      <th>14</th>\n",
       "      <td>PD0959</td>\n",
       "      <td>여성재킷</td>\n",
       "    </tr>\n",
       "    <tr>\n",
       "      <th>15</th>\n",
       "      <td>PD0957</td>\n",
       "      <td>기타여성의류세트</td>\n",
       "    </tr>\n",
       "    <tr>\n",
       "      <th>16</th>\n",
       "      <td>PD0951</td>\n",
       "      <td>여성블라우스</td>\n",
       "    </tr>\n",
       "    <tr>\n",
       "      <th>17</th>\n",
       "      <td>PD0900</td>\n",
       "      <td>기타아웃도어/레저용품</td>\n",
       "    </tr>\n",
       "    <tr>\n",
       "      <th>18</th>\n",
       "      <td>PD0223</td>\n",
       "      <td>젤리</td>\n",
       "    </tr>\n",
       "    <tr>\n",
       "      <th>19</th>\n",
       "      <td>PD0827</td>\n",
       "      <td>여성트레이닝복</td>\n",
       "    </tr>\n",
       "  </tbody>\n",
       "</table>\n",
       "</div>"
      ],
      "text/plain": [
       "      pd_c        pd_nm\n",
       "0   PD0949      여성티셔츠/탑\n",
       "1   PD0232         일반스낵\n",
       "2   PD1255      베이커리일반빵\n",
       "3   PD0363        빵/케이크\n",
       "4   PD0965        여성원피스\n",
       "5   PD0964    기타여성의류아우터\n",
       "6   PD0218           쿠키\n",
       "7   PD0816   여성런닝/트레이닝화\n",
       "8   PD0409          일반빵\n",
       "9   PD1181         커피음료\n",
       "10  PD0967         여성바지\n",
       "11  PD0402       기타레토르트\n",
       "12  PD0288         임대매출\n",
       "13  PD1827       기타패션잡화\n",
       "14  PD0959         여성재킷\n",
       "15  PD0957     기타여성의류세트\n",
       "16  PD0951       여성블라우스\n",
       "17  PD0900  기타아웃도어/레저용품\n",
       "18  PD0223           젤리\n",
       "19  PD0827      여성트레이닝복"
      ]
     },
     "execution_count": 388,
     "metadata": {},
     "output_type": "execute_result"
    }
   ],
   "source": [
    "married_recommend_list.loc[:,['pd_c','pd_nm']].head(20)"
   ]
  },
  {
   "cell_type": "code",
   "execution_count": 399,
   "id": "3ab84114",
   "metadata": {
    "scrolled": true
   },
   "outputs": [
    {
     "data": {
      "text/html": [
       "<div>\n",
       "<style scoped>\n",
       "    .dataframe tbody tr th:only-of-type {\n",
       "        vertical-align: middle;\n",
       "    }\n",
       "\n",
       "    .dataframe tbody tr th {\n",
       "        vertical-align: top;\n",
       "    }\n",
       "\n",
       "    .dataframe thead th {\n",
       "        text-align: right;\n",
       "    }\n",
       "</style>\n",
       "<table border=\"1\" class=\"dataframe\">\n",
       "  <thead>\n",
       "    <tr style=\"text-align: right;\">\n",
       "      <th></th>\n",
       "      <th>pd_c</th>\n",
       "      <th>pd_nm</th>\n",
       "    </tr>\n",
       "  </thead>\n",
       "  <tbody>\n",
       "    <tr>\n",
       "      <th>0</th>\n",
       "      <td>PD0298</td>\n",
       "      <td>기타남성의류세트</td>\n",
       "    </tr>\n",
       "    <tr>\n",
       "      <th>1</th>\n",
       "      <td>PD0290</td>\n",
       "      <td>남성티셔츠</td>\n",
       "    </tr>\n",
       "    <tr>\n",
       "      <th>2</th>\n",
       "      <td>PD0949</td>\n",
       "      <td>여성티셔츠/탑</td>\n",
       "    </tr>\n",
       "    <tr>\n",
       "      <th>3</th>\n",
       "      <td>PD0777</td>\n",
       "      <td>남성런닝/트레이닝화</td>\n",
       "    </tr>\n",
       "    <tr>\n",
       "      <th>4</th>\n",
       "      <td>PD0232</td>\n",
       "      <td>일반스낵</td>\n",
       "    </tr>\n",
       "    <tr>\n",
       "      <th>5</th>\n",
       "      <td>PD0787</td>\n",
       "      <td>남성트레이닝복</td>\n",
       "    </tr>\n",
       "    <tr>\n",
       "      <th>6</th>\n",
       "      <td>PD0291</td>\n",
       "      <td>남성정장셔츠</td>\n",
       "    </tr>\n",
       "    <tr>\n",
       "      <th>7</th>\n",
       "      <td>PD0218</td>\n",
       "      <td>쿠키</td>\n",
       "    </tr>\n",
       "    <tr>\n",
       "      <th>8</th>\n",
       "      <td>PD1181</td>\n",
       "      <td>커피음료</td>\n",
       "    </tr>\n",
       "    <tr>\n",
       "      <th>9</th>\n",
       "      <td>PD0964</td>\n",
       "      <td>기타여성의류아우터</td>\n",
       "    </tr>\n",
       "    <tr>\n",
       "      <th>10</th>\n",
       "      <td>PD0956</td>\n",
       "      <td>여성정장세트</td>\n",
       "    </tr>\n",
       "    <tr>\n",
       "      <th>11</th>\n",
       "      <td>PD0297</td>\n",
       "      <td>남성정장세트</td>\n",
       "    </tr>\n",
       "    <tr>\n",
       "      <th>12</th>\n",
       "      <td>PD0957</td>\n",
       "      <td>기타여성의류세트</td>\n",
       "    </tr>\n",
       "    <tr>\n",
       "      <th>13</th>\n",
       "      <td>PD0959</td>\n",
       "      <td>여성재킷</td>\n",
       "    </tr>\n",
       "    <tr>\n",
       "      <th>14</th>\n",
       "      <td>PD0402</td>\n",
       "      <td>기타레토르트</td>\n",
       "    </tr>\n",
       "    <tr>\n",
       "      <th>15</th>\n",
       "      <td>PD1827</td>\n",
       "      <td>기타패션잡화</td>\n",
       "    </tr>\n",
       "    <tr>\n",
       "      <th>16</th>\n",
       "      <td>PD0409</td>\n",
       "      <td>일반빵</td>\n",
       "    </tr>\n",
       "    <tr>\n",
       "      <th>17</th>\n",
       "      <td>PD1718</td>\n",
       "      <td>남성정장화</td>\n",
       "    </tr>\n",
       "    <tr>\n",
       "      <th>18</th>\n",
       "      <td>PD1787</td>\n",
       "      <td>기타여성화</td>\n",
       "    </tr>\n",
       "    <tr>\n",
       "      <th>19</th>\n",
       "      <td>PD0951</td>\n",
       "      <td>여성블라우스</td>\n",
       "    </tr>\n",
       "  </tbody>\n",
       "</table>\n",
       "</div>"
      ],
      "text/plain": [
       "      pd_c       pd_nm\n",
       "0   PD0298    기타남성의류세트\n",
       "1   PD0290       남성티셔츠\n",
       "2   PD0949     여성티셔츠/탑\n",
       "3   PD0777  남성런닝/트레이닝화\n",
       "4   PD0232        일반스낵\n",
       "5   PD0787     남성트레이닝복\n",
       "6   PD0291      남성정장셔츠\n",
       "7   PD0218          쿠키\n",
       "8   PD1181        커피음료\n",
       "9   PD0964   기타여성의류아우터\n",
       "10  PD0956      여성정장세트\n",
       "11  PD0297      남성정장세트\n",
       "12  PD0957    기타여성의류세트\n",
       "13  PD0959        여성재킷\n",
       "14  PD0402      기타레토르트\n",
       "15  PD1827      기타패션잡화\n",
       "16  PD0409         일반빵\n",
       "17  PD1718       남성정장화\n",
       "18  PD1787       기타여성화\n",
       "19  PD0951      여성블라우스"
      ]
     },
     "execution_count": 399,
     "metadata": {},
     "output_type": "execute_result"
    }
   ],
   "source": [
    "worker_recommend_list.loc[:,['pd_c','pd_nm']].head(20)"
   ]
  },
  {
   "cell_type": "code",
   "execution_count": 408,
   "id": "d766ac32",
   "metadata": {},
   "outputs": [],
   "source": [
    "# Output 저장 \n",
    "import pickle\n",
    "with open('married_recommend_list.pickle','wb') as fw:\n",
    "    pickle.dump(married_recommend_list, fw)\n",
    "    \n",
    "with open('worker_recommend_list.pickle','wb') as fw:\n",
    "    pickle.dump(worker_recommend_list, fw)"
   ]
  },
  {
   "cell_type": "code",
   "execution_count": 409,
   "id": "cc875acf",
   "metadata": {},
   "outputs": [],
   "source": [
    "# Output 불러오기\n",
    "with open('married_recommend_list.pickle','rb') as fw:\n",
    "    married_recommend_list = pickle.load(fw)\n",
    "with open('worker_recommend_list.pickle','rb') as fw:\n",
    "    worker_recommend_list = pickle.load(fw)"
   ]
  }
 ],
 "metadata": {
  "kernelspec": {
   "display_name": "Python 3 (ipykernel)",
   "language": "python",
   "name": "python3"
  },
  "language_info": {
   "codemirror_mode": {
    "name": "ipython",
    "version": 3
   },
   "file_extension": ".py",
   "mimetype": "text/x-python",
   "name": "python",
   "nbconvert_exporter": "python",
   "pygments_lexer": "ipython3",
   "version": "3.9.12"
  },
  "toc": {
   "base_numbering": 1,
   "nav_menu": {},
   "number_sections": true,
   "sideBar": true,
   "skip_h1_title": false,
   "title_cell": "Table of Contents",
   "title_sidebar": "Contents",
   "toc_cell": false,
   "toc_position": {},
   "toc_section_display": true,
   "toc_window_display": false
  }
 },
 "nbformat": 4,
 "nbformat_minor": 5
}
